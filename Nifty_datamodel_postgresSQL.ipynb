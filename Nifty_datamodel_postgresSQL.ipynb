{
 "cells": [
  {
   "cell_type": "code",
   "execution_count": 1,
   "metadata": {},
   "outputs": [
    {
     "name": "stdout",
     "output_type": "stream",
     "text": [
      "Collecting psycopg2\n",
      "  Downloading psycopg2-2.9.5-cp37-cp37m-win_amd64.whl (1.2 MB)\n",
      "Installing collected packages: psycopg2\n",
      "Successfully installed psycopg2-2.9.5\n"
     ]
    },
    {
     "name": "stderr",
     "output_type": "stream",
     "text": [
      "WARNING: Ignoring invalid distribution -umpy (c:\\users\\new\\anaconda3\\lib\\site-packages)\n",
      "WARNING: Ignoring invalid distribution -umpy (c:\\users\\new\\anaconda3\\lib\\site-packages)\n",
      "WARNING: Ignoring invalid distribution -umpy (c:\\users\\new\\anaconda3\\lib\\site-packages)\n",
      "WARNING: Ignoring invalid distribution -umpy (c:\\users\\new\\anaconda3\\lib\\site-packages)\n",
      "WARNING: Ignoring invalid distribution -umpy (c:\\users\\new\\anaconda3\\lib\\site-packages)\n",
      "WARNING: Ignoring invalid distribution -umpy (c:\\users\\new\\anaconda3\\lib\\site-packages)\n",
      "WARNING: Ignoring invalid distribution -umpy (c:\\users\\new\\anaconda3\\lib\\site-packages)\n",
      "WARNING: You are using pip version 21.2.4; however, version 23.0 is available.\n",
      "You should consider upgrading via the 'c:\\users\\new\\anaconda3\\python.exe -m pip install --upgrade pip' command.\n"
     ]
    }
   ],
   "source": [
    "#installing the package for connecting with psotgreSQL\n",
    "!pip install psycopg2"
   ]
  },
  {
   "cell_type": "code",
   "execution_count": 94,
   "metadata": {},
   "outputs": [],
   "source": [
    "# function for connecting postgreSQL and creating database for Nifty_stock_data\n",
    "\n",
    "import psycopg2\n",
    "def create_database():   \n",
    "    try:\n",
    "        conn =psycopg2.connect(\"host=127.0.0.1 dbname=postgres user=postgres password=root\")\n",
    "    except psycopg2.Error as e:\n",
    "        print(\"Database connection failed...\")\n",
    "        print(e)\n",
    "        \n",
    "    try:\n",
    "        curr = conn.cursor()\n",
    "    except psycopg2.Error as e:\n",
    "        print(\"cursor connection is failed\")\n",
    "        print(e) \n",
    "    \n",
    "    conn.set_session(autocommit=True)\n",
    "    curr.execute(\"Drop database Nifty_stockdata\")\n",
    "    curr.execute(\"Create database Nifty_stockdata\")\n",
    "    \n",
    "    conn.close()\n",
    "    \n",
    "    try:\n",
    "        conn =psycopg2.connect(\"host=127.0.0.1 dbname=nifty_stockdata user=postgres password=root\")\n",
    "    except psycopg2.Error as e:\n",
    "        print(\"Nifty_stockdata Database connection failed...\")\n",
    "        print(e)\n",
    "    \n",
    "    curr = conn.cursor()\n",
    "    \n",
    "    return conn,curr\n",
    "    "
   ]
  },
  {
   "cell_type": "code",
   "execution_count": 100,
   "metadata": {},
   "outputs": [],
   "source": [
    "# to close the connection\n",
    "try:\n",
    "    conn.close()\n",
    "except psycopg2.Error as e:\n",
    "    print(\"close connection is failed\")\n",
    "    print(e)"
   ]
  },
  {
   "cell_type": "code",
   "execution_count": 4,
   "metadata": {},
   "outputs": [],
   "source": [
    "# method to create and drop the table\n",
    "def create_table(conn,cur):\n",
    "    for query in create_table_queries:\n",
    "        curr.execute(query)\n",
    "        conn.commit()\n",
    "        \n",
    "def drop_table(conn,cur):\n",
    "    for query in drop_table_queries:\n",
    "        curr.execute(query)\n",
    "        conn.commit()"
   ]
  },
  {
   "cell_type": "code",
   "execution_count": 101,
   "metadata": {},
   "outputs": [],
   "source": [
    "# connection is created\n",
    "conn,curr = create_database()"
   ]
  },
  {
   "cell_type": "code",
   "execution_count": 103,
   "metadata": {},
   "outputs": [],
   "source": [
    "#loading the input data files via pandas \n",
    "import pandas as pd\n",
    "stock_metadata = pd.read_csv(\"C:\\\\Users\\\\NEW\\\\Nifty_50_data\\\\stock_metadata.csv\")\n",
    "HDFC_BANK = pd.read_csv(\"C:\\\\Users\\\\NEW\\\\Nifty_50_data\\\\HDFCBANK.csv\")"
   ]
  },
  {
   "cell_type": "code",
   "execution_count": 104,
   "metadata": {},
   "outputs": [
    {
     "data": {
      "text/html": [
       "<div>\n",
       "<style scoped>\n",
       "    .dataframe tbody tr th:only-of-type {\n",
       "        vertical-align: middle;\n",
       "    }\n",
       "\n",
       "    .dataframe tbody tr th {\n",
       "        vertical-align: top;\n",
       "    }\n",
       "\n",
       "    .dataframe thead th {\n",
       "        text-align: right;\n",
       "    }\n",
       "</style>\n",
       "<table border=\"1\" class=\"dataframe\">\n",
       "  <thead>\n",
       "    <tr style=\"text-align: right;\">\n",
       "      <th></th>\n",
       "      <th>Company Name</th>\n",
       "      <th>Industry</th>\n",
       "      <th>Symbol</th>\n",
       "      <th>Series</th>\n",
       "      <th>ISIN Code</th>\n",
       "    </tr>\n",
       "  </thead>\n",
       "  <tbody>\n",
       "    <tr>\n",
       "      <th>0</th>\n",
       "      <td>Adani Ports and Special Economic Zone Ltd.</td>\n",
       "      <td>SERVICES</td>\n",
       "      <td>ADANIPORTS</td>\n",
       "      <td>EQ</td>\n",
       "      <td>INE742F01042</td>\n",
       "    </tr>\n",
       "    <tr>\n",
       "      <th>1</th>\n",
       "      <td>Asian Paints Ltd.</td>\n",
       "      <td>CONSUMER GOODS</td>\n",
       "      <td>ASIANPAINT</td>\n",
       "      <td>EQ</td>\n",
       "      <td>INE021A01026</td>\n",
       "    </tr>\n",
       "    <tr>\n",
       "      <th>2</th>\n",
       "      <td>Axis Bank Ltd.</td>\n",
       "      <td>FINANCIAL SERVICES</td>\n",
       "      <td>AXISBANK</td>\n",
       "      <td>EQ</td>\n",
       "      <td>INE238A01034</td>\n",
       "    </tr>\n",
       "    <tr>\n",
       "      <th>3</th>\n",
       "      <td>Bajaj Auto Ltd.</td>\n",
       "      <td>AUTOMOBILE</td>\n",
       "      <td>BAJAJ-AUTO</td>\n",
       "      <td>EQ</td>\n",
       "      <td>INE917I01010</td>\n",
       "    </tr>\n",
       "    <tr>\n",
       "      <th>4</th>\n",
       "      <td>Bajaj Finserv Ltd.</td>\n",
       "      <td>FINANCIAL SERVICES</td>\n",
       "      <td>BAJAJFINSV</td>\n",
       "      <td>EQ</td>\n",
       "      <td>INE918I01018</td>\n",
       "    </tr>\n",
       "  </tbody>\n",
       "</table>\n",
       "</div>"
      ],
      "text/plain": [
       "                                 Company Name            Industry      Symbol  \\\n",
       "0  Adani Ports and Special Economic Zone Ltd.            SERVICES  ADANIPORTS   \n",
       "1                           Asian Paints Ltd.      CONSUMER GOODS  ASIANPAINT   \n",
       "2                              Axis Bank Ltd.  FINANCIAL SERVICES    AXISBANK   \n",
       "3                             Bajaj Auto Ltd.          AUTOMOBILE  BAJAJ-AUTO   \n",
       "4                          Bajaj Finserv Ltd.  FINANCIAL SERVICES  BAJAJFINSV   \n",
       "\n",
       "  Series     ISIN Code  \n",
       "0     EQ  INE742F01042  \n",
       "1     EQ  INE021A01026  \n",
       "2     EQ  INE238A01034  \n",
       "3     EQ  INE917I01010  \n",
       "4     EQ  INE918I01018  "
      ]
     },
     "execution_count": 104,
     "metadata": {},
     "output_type": "execute_result"
    }
   ],
   "source": [
    "stock_metadata.head()"
   ]
  },
  {
   "cell_type": "code",
   "execution_count": 105,
   "metadata": {},
   "outputs": [],
   "source": [
    "# pre-processing steps for data files\n",
    "stock_metadata = stock_metadata[['Company Name','Industry','Symbol','ISIN Code']]\n",
    "HDFC_BANK = HDFC_BANK.fillna(0)\n",
    "HDFC_BANK = HDFC_BANK[['Date','Symbol','Prev Close','Open','High','Low','Last','Close','VWAP','Volume','Turnover','Trades','Deliverable Volume','%Deliverble']]\n",
    "HDFC_BANK.head()"
   ]
  },
  {
   "cell_type": "code",
   "execution_count": 83,
   "metadata": {},
   "outputs": [],
   "source": [
    "# create table Query\n",
    "hdfc_create_table=(\"\"\"CREATE TABLE IF NOT EXISTS HDFC_BANK (\n",
    "   Date DATE PRIMARY KEY,\n",
    "   Symbol varchar,\n",
    "   PrevClose decimal,Open decimal,High decimal,Low decimal,Last decimal,Close decimal,VWAP int,Volume int,Turnover bigint,Trades int,\n",
    "   Deliverable_Volume int, Deliverble int)\"\"\")\n",
    "\n",
    "try:\n",
    "    curr.execute(hdfc_create_table)\n",
    "except psycopg2.Error as e:\n",
    "    print(e)\n",
    "conn.commit()\n",
    "\n",
    "\n",
    "stock_metadata_query = (\"\"\"CREATE TABLE IF NOT EXISTS Stock_metadata (company_name varchar,industry varchar,symbol varchar, isin_code varchar)\"\"\")\n",
    "try:\n",
    "    curr.execute(stock_metadata_query)\n",
    "except psycopg2.Error as e:\n",
    "    print(e)\n",
    "conn.commit()"
   ]
  },
  {
   "cell_type": "code",
   "execution_count": 51,
   "metadata": {},
   "outputs": [],
   "source": [
    "# insert data into the postgreSQL\n",
    "\n",
    "stock_metadata_insert_query = (\"\"\"insert into stock_metadata(company_name,industry,symbol,isin_code)values(%s,%s,%s,%s)\"\"\")\n",
    "\n",
    "for i,row in stock_metadata.iterrows():\n",
    "    curr.execute(stock_metadata_insert_query,list(row))\n",
    "conn.commit()\n",
    "\n",
    "hdfcbank_insert_query = (\"\"\"insert into hdfc_bank(date,symbol,prevclose,open,high,low,last,close,vwap,volume,turnover,trades,deliverable_Volume,deliverble)values(%s,%s,%s,%s,%s,%s,%s,%s,%s,%s,%s,%s,%s,%s)\"\"\")\n",
    "\n",
    "for i,row in HDFC_BANK.iterrows():\n",
    "    curr.execute(hdfcbank_insert_query,list(row))\n",
    "conn.commit()"
   ]
  },
  {
   "cell_type": "code",
   "execution_count": 91,
   "metadata": {},
   "outputs": [],
   "source": [
    "# create target table for analaysis\n",
    "\n",
    "hdfc_create_table_target=(\"\"\"CREATE TABLE IF NOT EXISTS HDFC_BANK_target (\n",
    "   Date DATE PRIMARY KEY,\n",
    "   month varchar,\n",
    "   year varchar,\n",
    "   Symbol varchar,\n",
    "   PrevClose decimal,Open decimal,High decimal,Low decimal,Last decimal,Close decimal,VWAP int,Volume int,Turnover bigint,Trades int,\n",
    "   Deliverable_Volume int, Deliverble int)\"\"\")\n",
    "\n",
    "try:\n",
    "    curr.execute(hdfc_create_table_target)\n",
    "except psycopg2.Error as e:\n",
    "    print(e)\n",
    "conn.commit()"
   ]
  }
 ],
 "metadata": {
  "kernelspec": {
   "display_name": "Python 3",
   "language": "python",
   "name": "python3"
  },
  "language_info": {
   "codemirror_mode": {
    "name": "ipython",
    "version": 3
   },
   "file_extension": ".py",
   "mimetype": "text/x-python",
   "name": "python",
   "nbconvert_exporter": "python",
   "pygments_lexer": "ipython3",
   "version": "3.7.3"
  }
 },
 "nbformat": 4,
 "nbformat_minor": 2
}
